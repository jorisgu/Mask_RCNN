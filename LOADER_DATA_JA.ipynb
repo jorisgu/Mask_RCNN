{
 "cells": [
  {
   "cell_type": "markdown",
   "metadata": {},
   "source": [
    "# Data loader\n",
    "data in /dds/workspace/data_ja/"
   ]
  },
  {
   "cell_type": "code",
   "execution_count": 7,
   "metadata": {
    "collapsed": false
   },
   "outputs": [
    {
     "name": "stdout",
     "output_type": "stream",
     "text": [
      "CAT_1_9003.jpg\tCAT_1_9015.jpg\tCAT_1_9027.jpg\tCAT_1_9044.jpg\r\n",
      "CAT_1_9004.jpg\tCAT_1_9016.jpg\tCAT_1_9028.jpg\tCAT_1_9045.jpg\r\n",
      "CAT_1_9005.jpg\tCAT_1_9017.jpg\tCAT_1_9029.jpg\tCAT_1_9046.jpg\r\n",
      "CAT_1_9006.jpg\tCAT_1_9018.jpg\tCAT_1_9035.jpg\tCAT_1_9047.jpg\r\n",
      "CAT_1_9007.jpg\tCAT_1_9019.jpg\tCAT_1_9036.jpg\tCAT_1_9048.jpg\r\n",
      "CAT_1_9008.jpg\tCAT_1_9020.jpg\tCAT_1_9037.jpg\tCAT_1_9049.jpg\r\n",
      "CAT_1_9009.jpg\tCAT_1_9021.jpg\tCAT_1_9038.jpg\tCAT_1_9050.jpg\r\n",
      "CAT_1_9010.jpg\tCAT_1_9022.jpg\tCAT_1_9039.jpg\tCAT_1_9051.jpg\r\n",
      "CAT_1_9011.jpg\tCAT_1_9023.jpg\tCAT_1_9040.jpg\tRF-CAT1-v1.0.csv\r\n",
      "CAT_1_9012.jpg\tCAT_1_9024.jpg\tCAT_1_9041.jpg\tmasks\r\n",
      "CAT_1_9013.jpg\tCAT_1_9025.jpg\tCAT_1_9042.jpg\tvt_ja.csv\r\n",
      "CAT_1_9014.jpg\tCAT_1_9026.jpg\tCAT_1_9043.jpg\tvt_ja.xlsx\r\n"
     ]
    }
   ],
   "source": [
    "!ls /dds/work/workspace/data_ja/"
   ]
  },
  {
   "cell_type": "markdown",
   "metadata": {},
   "source": [
    "# IMAGE LOADER"
   ]
  },
  {
   "cell_type": "markdown",
   "metadata": {},
   "source": [
    "### fonction de chargement d'image jpeg par morceau"
   ]
  },
  {
   "cell_type": "code",
   "execution_count": 3,
   "metadata": {
    "collapsed": false
   },
   "outputs": [],
   "source": [
    "from PIL import Image, ImageDraw\n",
    "Image.MAX_IMAGE_PIXELS = 1e10\n",
    "# ImageFile.LOAD_TRUNCATED_IMAGES = True\n",
    "\n",
    "import os.path as osp\n",
    "import numpy as np\n",
    "import glob\n",
    "from tqdm import tqdm\n",
    "\n",
    "import errno    \n",
    "import os\n",
    "\n",
    "\n",
    "def mkdir_p(path):\n",
    "    try:\n",
    "        os.makedirs(path)\n",
    "    except OSError as exc:  # Python >2.5\n",
    "        if exc.errno == errno.EEXIST and osp.isdir(path):\n",
    "            pass\n",
    "        else:\n",
    "            raise\n",
    "\n",
    "def change_tile(tile, new_width, new_height, memory_offset):\n",
    "    tup = tile[0]\n",
    "    return [(tup[0],) + ((0,0,new_width, new_height),) + (tup[-2]+memory_offset,) + (tup[-1],)]\n",
    "\n",
    "def read_line_portion(img_path,x,y,w,h,i):\n",
    "    img_pil = Image.open(img_path)\n",
    "    W = img_pil.size[0]\n",
    "    img_pil.size=(w,1)\n",
    "    memory_offset = (x+i)*3*W+3*y\n",
    "    img_pil.tile = change_tile(img_pil.tile,w,1,memory_offset)\n",
    "    #print(img_pil.tile)\n",
    "    #print(img_pil.size)\n",
    "    return img_pil\n",
    "\n",
    "def read_from_memory(img_path,x,y,w,h):\n",
    "    result = Image.new('RGB',(w,h))\n",
    "    for i in range(h):\n",
    "        a = read_line_portion(img_path, x,y,w,h,i)\n",
    "        result.paste(a,(0,i))\n",
    "    return result\n",
    "\n",
    "def show_thumbnail(img_pil, max_size_thumbnail = 200.):\n",
    "    img_pil_thumbnail = img_pil.copy()\n",
    "    size = img_pil.size\n",
    "    max_size_img = float(max(size))\n",
    "    new_size =  tuple((max_size_thumbnail/max_size_img*np.asarray(size)).astype(int))\n",
    "    img_pil_thumbnail.thumbnail(new_size, Image.ANTIALIAS)\n",
    "    return img_pil_thumbnail\n",
    "\n",
    "def pil_resize(img_pil, new_max_size = 1000.):\n",
    "    size = img_pil.size\n",
    "    max_size_img = float(max(size))\n",
    "    new_size =  tuple((new_max_size/max_size_img*np.asarray(size)).astype(int))\n",
    "    img_pil_resized = img_pil.resize(new_size, Image.NEAREST)\n",
    "    return img_pil_resized\n",
    "\n",
    "def convert_to_ppm(img_path,verbose=False):\n",
    "    \n",
    "    if osp.isfile(img_path):\n",
    "        if img_path[-3:]!=\"ppm\":\n",
    "            if verbose:\n",
    "                print('not ppm')\n",
    "            if osp.isfile(img_path+\".ppm\"):\n",
    "                if verbose:\n",
    "                    print('converted file already exists')\n",
    "                pass\n",
    "            else:\n",
    "                if verbose:\n",
    "                    print(\"conversion... [\"+\"convert\" +img_path+\" \"+img_path+\".ppm\"+\"]\")\n",
    "                os.system(\"convert \" +img_path+\" \"+img_path+\".ppm\")  \n",
    "                if verbose:\n",
    "                    print(\"conversion done !\")\n",
    "        else:\n",
    "            if verbose:\n",
    "                print(\"file already converted\")\n",
    "    else:\n",
    "        if verbose:\n",
    "            print(\"file does not exist\")\n",
    "\n",
    "def purge_ppm(folder):\n",
    "    os.system(\"rm \"+folder+\"/*.ppm\")\n",
    "    \n",
    "def list_all_images(folder,fileExtensions = ['jpg','jpeg','JPG','JPEG']):\n",
    "    directoryPath  = folder+\"/*.\"\n",
    "    listOfFiles    = []\n",
    "    list_files = []\n",
    "    for extension in fileExtensions:\n",
    "        listOfFiles.extend( glob.glob( directoryPath + extension ))\n",
    "    return listOfFiles\n",
    "\n",
    "\n",
    "def convert_to_ppm_by_folder(folder_in, folder_out=None, fileExtensions = ['jpg','jpeg','JPG','JPEG'], verbose = False):\n",
    "    if folder_out is None:\n",
    "        folder_out = folder_in+\"/ppms/\"\n",
    "    mkdir_p(folder_out)\n",
    "    #in\n",
    "    img_paths_in = list_all_images(folder_in, fileExtensions)\n",
    "    img_names_in = [osp.splitext(osp.splitext(osp.basename(img_path))[0])[0] for img_path in img_paths_in]\n",
    "    #out\n",
    "    img_paths_out = list_all_images(folder_out)\n",
    "    img_names_out = [osp.splitext(osp.splitext(osp.basename(img_path))[0])[0] for img_path in img_paths_out]\n",
    "    \n",
    "    for img_name_in_id,img_name_in in enumerate(tqdm(img_names_in)):\n",
    "        if img_name_in not in img_names_out:\n",
    "            os.system(\"convert \" +img_paths_in[img_name_in_id]+\" \"+folder_out+img_name_in+\".ppm\")\n"
   ]
  },
  {
   "cell_type": "markdown",
   "metadata": {},
   "source": [
    "### Generation des images avec un encodage de type \"raw\" (conversion au format \"ppm\")"
   ]
  },
  {
   "cell_type": "code",
   "execution_count": 4,
   "metadata": {
    "collapsed": true
   },
   "outputs": [],
   "source": [
    "data_folder = \"/dds/work/workspace/data_ja/\"\n",
    "groundtruth_path='/dds/work/workspace/data_ja/RF-CAT1-v1.0.csv'"
   ]
  },
  {
   "cell_type": "code",
   "execution_count": 6,
   "metadata": {
    "collapsed": false
   },
   "outputs": [],
   "source": [
    "# purge_ppm(data_folder)\n",
    "# purge_ppm(data_folder+\"/ppms/\")"
   ]
  },
  {
   "cell_type": "code",
   "execution_count": 8,
   "metadata": {
    "collapsed": false
   },
   "outputs": [
    {
     "name": "stderr",
     "output_type": "stream",
     "text": [
      "100%|██████████| 44/44 [04:07<00:00,  8.29s/it]\n"
     ]
    }
   ],
   "source": [
    "convert_to_ppm_by_folder(data_folder)"
   ]
  },
  {
   "cell_type": "code",
   "execution_count": null,
   "metadata": {
    "collapsed": false
   },
   "outputs": [],
   "source": [
    "# list_images_path = list_all_images(data_folder)\n",
    "# for img_path in list_images_path:\n",
    "#     convert_to_ppm(img_path,True)\n",
    "# !ls /dds/work/workspace/data_ja/ -hl |grep ppm"
   ]
  },
  {
   "cell_type": "markdown",
   "metadata": {},
   "source": [
    "### Génération d'une liste de crops aléatoires, multiscales, multisources"
   ]
  },
  {
   "cell_type": "code",
   "execution_count": null,
   "metadata": {
    "collapsed": false
   },
   "outputs": [],
   "source": [
    "## objectif : connaître k et s' en fonction de W, w'(scale,dim) et s(overlap,w') :\n",
    "# overlap, c'est un overlap minimal qui peut s'aggrandir pour bien couvrir l'image\n",
    "\n",
    "from math import ceil, floor\n",
    "import csv\n",
    "\n",
    "def make_spk(W, w=1000, overlap = 0.5, scale = 1):\n",
    "    \"\"\" input :\n",
    "        W : dimension de l'image\n",
    "        w : dimension du crop\n",
    "        overlap : recouvrement dans le décalage des crops avec strategie de sliding window\n",
    "        scale : zoom \n",
    "        \n",
    "        output :\n",
    "        sp (=s') : recalcul du stride s pour améliorer le recouvrement de l'image\n",
    "        k : nombre de crop que l'on peut faire le long de la dimension considérée\n",
    "        \n",
    "        Dans le principe, avec le stride de base s le crop k sort de l'image, \n",
    "        donc on diminue légèrement le stride pour que le k-ième crop arrive dans l'image.\n",
    "        \n",
    "        La conséquence directe est que l'overlap augmente un peu.\n",
    "        \"\"\"\n",
    "    wp=ceil(w*scale) #pour s'assurer d'avoir des pixels \n",
    "    s=floor(wp-overlap*wp) #floor pour faciliter la redondance d'info\n",
    "    #w'+k*s=W\n",
    "    k=ceil((W-wp)/s) #ceil pour faciliter la redondance on s'assure de dépasser un peu de l'image\n",
    "\n",
    "    #Exemple : k=ceil((15000-1125)/(1125-0.5*1125))\n",
    "    #                      = 13875/562 = ceil(24,68)=25\n",
    "    #Erreur sur W:\n",
    "    #|W-w'-k*s|=-175\n",
    "    #recalcul du s pour resserrer les crops\n",
    "    sp=floor((W-wp)/k)  #=555\n",
    "    #recalcul de l'erreur sur W\n",
    "    #W-w'-k*s'=0\n",
    "    #     key='D'+str(W)+'_d'+str(w)+'_o'+str(overlap)+'_s'+str(scale)\n",
    "    return (sp,k)\n",
    "\n",
    "def make_img_infos(folder,groundtruth_path,dim=1000):\n",
    "    \"\"\"\n",
    "    Fonction qui construit le dataset, \n",
    "    elle liste les images, leurs tailles, le nombre de crops possibles et produit les masks de la VT\n",
    "    \"\"\"\n",
    "    img_infos={}\n",
    "    img_infos['paths']=list_all_images(folder,fileExtensions = ['ppm'])\n",
    "    img_infos['mask_paths']=[]\n",
    "    img_infos['filenames']=[]\n",
    "    img_infos['size']=[]\n",
    "    img_infos['spk']=[]\n",
    "    img_infos['groundtruth']=[]\n",
    "    img_infos['list_crops']=[]\n",
    "\n",
    "    groundtruth_csvfile = open(groundtruth_path, 'r')\n",
    "    # with open(pathToGT, 'r') as csvfile:\n",
    "    groundtruth_reader = csv.DictReader(groundtruth_csvfile)#, delimiter=',')\n",
    "    groundtruth_dict = {}\n",
    "    for row in groundtruth_reader:\n",
    "        groundtruth_dict.setdefault(row['filename'],[]).append(row)\n",
    "\n",
    "    scales = [1., 1.25, 0.8, 0.6, 0.4]\n",
    "    scales.sort()\n",
    "    for img_id,img_path in enumerate(img_infos['paths']):\n",
    "        img_pil = Image.open(img_path)\n",
    "        filename = osp.splitext(osp.splitext(osp.basename(img_path))[0])[0]\n",
    "        img_infos['filenames'].append(filename)\n",
    "        img_infos['size'].append(img_pil.size)\n",
    "        img_infos['groundtruth'].append(groundtruth_dict[filename])\n",
    "\n",
    "        # calcul du meilleur stride (sp) et du nombre de crops possibles (k) dans chaque direction (x,y)\n",
    "        W = img_pil.size[0]\n",
    "        H = img_pil.size[1]\n",
    "        spk_img=[]\n",
    "        for scale in scales:\n",
    "            spk_img.append((scale,(make_spk(W, w=1000, overlap = 0.5, scale=scale),make_spk(H, w=1000, overlap = 0.5, scale=scale))))\n",
    "        img_infos['spk'].append(spk_img)\n",
    "        \n",
    "\n",
    "                    \n",
    "                    \n",
    "        #creation du mask des étiquettes\n",
    "        mask_path = data_folder+'masks/'+filename+\".ppm\"\n",
    "        img_infos['mask_paths'].append(mask_path)\n",
    "        # if not osp.isfile(mask_path):\n",
    "        mkdir_p(data_folder+'masks')\n",
    "        mask = Image.new('L',img_pil.size)\n",
    "        for id_label,label in enumerate(groundtruth_dict[filename]):\n",
    "            label_polygon = [(int(label['x1']),int(label['y1'])),(int(label['x2']),int(label['y2'])),(int(label['x3']),int(label['y3'])),(int(label['x4']),int(label['y4']))]\n",
    "            ImageDraw.Draw(mask).polygon(label_polygon, outline=id_label, fill=id_label)\n",
    "        mask.save(mask_path)\n",
    "            \n",
    "        #creation des crops\n",
    "        for spk in spk_img:\n",
    "            scale = spk[0]\n",
    "            spy = spk[1][0][0] # stride horizontal\n",
    "            spx = spk[1][1][0] # stride vertical\n",
    "            for kyi in range(0,spk[1][0][1]+1):\n",
    "                yi=spy*kyi\n",
    "                for kxi in range(0,spk[1][1][1]+1):\n",
    "                    xi=spx*kxi\n",
    "                    crop = (img_id,scale,int(xi),int(yi))\n",
    "                    mask_cropped = mask.crop((crop[3],crop[2],crop[3]+ceil(dim*crop[1]),crop[2]+ceil(dim*crop[1])))\n",
    "                    if np.amax(np.array(mask_cropped))==0:\n",
    "                        has_vt=0\n",
    "                    else:\n",
    "                        has_vt=1\n",
    "                    crop = (img_id,scale,int(xi),int(yi),has_vt)    \n",
    "                    img_infos['list_crops'].append(crop)\n",
    "        img_infos['crops_with_labels'] = [id for id,crop in enumerate(img_infos['list_crops']) if crop[4]==1]\n",
    "    return img_infos\n",
    "\n",
    "def load_crop(crop,img_path,dim=1000):\n",
    "    return read_from_memory(img_path,crop[2],crop[3],ceil(dim*crop[1]),ceil(dim*crop[1]))\n",
    "    \n",
    "def load_crop_mask(crop,img_path,dim=1000):\n",
    "    img_pil = Image.open(img_path)\n",
    "    b = img_pil.crop((crop[3],crop[2],crop[3]+ceil(dim*crop[1]),crop[2]+ceil(dim*crop[1])))\n",
    "    return b\n",
    "    "
   ]
  },
  {
   "cell_type": "markdown",
   "metadata": {},
   "source": [
    "### Construction du dataset"
   ]
  },
  {
   "cell_type": "code",
   "execution_count": null,
   "metadata": {
    "collapsed": false,
    "scrolled": true
   },
   "outputs": [],
   "source": [
    "img_infos = make_img_infos(data_folder,groundtruth_path)"
   ]
  },
  {
   "cell_type": "markdown",
   "metadata": {},
   "source": [
    "### Affichage d'un crop"
   ]
  },
  {
   "cell_type": "code",
   "execution_count": null,
   "metadata": {
    "collapsed": false,
    "scrolled": true
   },
   "outputs": [],
   "source": [
    "crop = img_infos['list_crops'][20000]\n",
    "result = load_crop(crop,img_infos['paths'][crop[0]])\n",
    "show_thumbnail(result)"
   ]
  },
  {
   "cell_type": "markdown",
   "metadata": {},
   "source": [
    "### Affichage interactif de crops"
   ]
  },
  {
   "cell_type": "code",
   "execution_count": null,
   "metadata": {
    "collapsed": true
   },
   "outputs": [],
   "source": [
    "%matplotlib inline\n",
    "import matplotlib.pyplot as plt\n",
    "from ipywidgets import interact\n",
    "from matplotlib.pyplot import imshow \n",
    "import matplotlib.image as mpimg\n",
    "import numpy as np\n"
   ]
  },
  {
   "cell_type": "code",
   "execution_count": null,
   "metadata": {
    "collapsed": false
   },
   "outputs": [],
   "source": [
    "def func():\n",
    "    n = len(img_infos['crops_with_labels'])\n",
    "    def view_image(crop=264):\n",
    "        i=crop\n",
    "    #     crop = img_infos['list_crops'][i]\n",
    "        crop = img_infos['list_crops'][img_infos['crops_with_labels'][i]]\n",
    "        result = load_crop(crop,img_infos['paths'][crop[0]])\n",
    "        result_mask = load_crop_mask(crop,img_infos['mask_paths'][crop[0]])\n",
    "#         plt.title('title')\n",
    "        plt.subplot(1, 2, 1) #ligne colonne\n",
    "        plt.imshow(result)\n",
    "        plt.title('RGB')\n",
    "        plt.axis('off')\n",
    "        plt.subplot(1, 2, 2) #ligne colonne\n",
    "        plt.imshow(result_mask)\n",
    "\n",
    "        plt.title('Groundtruth')\n",
    "        plt.axis('off')\n",
    "\n",
    "    interact(view_image, i=(0,n-1))\n",
    "func()"
   ]
  },
  {
   "cell_type": "markdown",
   "metadata": {},
   "source": [
    "### Construction du mask pour le training de Mask RCNN"
   ]
  },
  {
   "cell_type": "code",
   "execution_count": null,
   "metadata": {
    "collapsed": false
   },
   "outputs": [],
   "source": [
    "i=264\n",
    "crop = img_infos['list_crops'][img_infos['crops_with_labels'][i]]\n",
    "result = load_crop(crop,img_infos['paths'][crop[0]])\n",
    "result_mask = load_crop_mask(crop,img_infos['mask_paths'][crop[0]])"
   ]
  },
  {
   "cell_type": "code",
   "execution_count": null,
   "metadata": {
    "collapsed": false
   },
   "outputs": [],
   "source": [
    "pil_resize(result_mask,300)"
   ]
  },
  {
   "cell_type": "code",
   "execution_count": null,
   "metadata": {
    "collapsed": false
   },
   "outputs": [],
   "source": [
    "i=img_infos['crops_with_labels'][264]\n",
    "crop = img_infos['list_crops'][i]\n",
    "result = load_crop(crop,img_infos['paths'][crop[0]])\n",
    "result_mask = load_crop_mask(crop,img_infos['mask_paths'][crop[0]])\n",
    "\n",
    "result_mask_np = np.asarray(result_mask)\n",
    "instances = np.unique(result_mask_np)\n",
    "instances = [instance for instance in instances if instance>0]\n",
    "print(instances)\n",
    "mask_instance = 0*np.ndarray(shape=(*result_mask_np.shape,len(instances)),dtype=np.uint8)\n",
    "print('shape',mask_instance.shape)\n",
    "for instance_id,instance in enumerate(instances):\n",
    "    mask_instance[:,:,instance_id]=(result_mask_np==instance).astype(np.uint8)\n",
    "    \n",
    "imgplot = plt.imshow(mask_instance[:,:,1],cmap='gray')"
   ]
  },
  {
   "cell_type": "markdown",
   "metadata": {},
   "source": [
    "### Affichages d'un extrait d'image"
   ]
  },
  {
   "cell_type": "code",
   "execution_count": null,
   "metadata": {
    "collapsed": false
   },
   "outputs": [],
   "source": [
    "#(960, 230)\n",
    "x = 7500\n",
    "y = 16000\n",
    "h = 500\n",
    "w = 500\n",
    "\n",
    "img_path = '/dds/work/workspace/data_ja/CAT_1_9013.jpg.ppm'\n",
    "print(Image.open(img_path).size)\n",
    "result = read_from_memory(img_path,x,y,w, h)\n",
    "pil_resize(result,1000)\n"
   ]
  },
  {
   "cell_type": "code",
   "execution_count": null,
   "metadata": {
    "collapsed": true
   },
   "outputs": [],
   "source": []
  }
 ],
 "metadata": {
  "kernelspec": {
   "display_name": "Python [conda env:dds]",
   "language": "python",
   "name": "conda-env-dds-py"
  },
  "language_info": {
   "codemirror_mode": {
    "name": "ipython",
    "version": 3
   },
   "file_extension": ".py",
   "mimetype": "text/x-python",
   "name": "python",
   "nbconvert_exporter": "python",
   "pygments_lexer": "ipython3",
   "version": "3.5.3"
  },
  "widgets": {
   "state": {
    "6974ee44a3d547d1911b801627331a23": {
     "views": [
      {
       "cell_index": 15
      }
     ]
    }
   },
   "version": "1.2.0"
  }
 },
 "nbformat": 4,
 "nbformat_minor": 2
}
