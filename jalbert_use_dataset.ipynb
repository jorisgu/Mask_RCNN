{
 "cells": [
  {
   "cell_type": "code",
   "execution_count": null,
   "metadata": {
    "collapsed": true
   },
   "outputs": [],
   "source": [
    "import os\n",
    "os.environ['CUDA_VISIBLE_DEVICES'] = '0'\n",
    "import sys\n",
    "import random\n",
    "import math\n",
    "import re\n",
    "import time\n",
    "import numpy as np\n",
    "import cv2\n",
    "from tqdm import tqdm,trange\n",
    "from config import Config\n",
    "import utils\n",
    "import model as modellib\n",
    "from model import log"
   ]
  },
  {
   "cell_type": "code",
   "execution_count": 1,
   "metadata": {
    "collapsed": false
   },
   "outputs": [
    {
     "name": "stderr",
     "output_type": "stream",
     "text": [
      "ppm conversion: 100%|█████████████████████████████████████████████████████████████████████████████████████████████| 44/44 [00:00<00:00, 116361.52it/s]"
     ]
    },
    {
     "name": "stdout",
     "output_type": "stream",
     "text": [
      "Loading from precedent scan\n",
      "Image Count: 364\n",
      "Class Count: 2\n",
      "  0. BG                                                \n",
      "  1. label                                             \n"
     ]
    },
    {
     "name": "stderr",
     "output_type": "stream",
     "text": [
      "\n"
     ]
    }
   ],
   "source": [
    "## Dataset\n",
    "import jalbert\n",
    "config = jalbert.jalbertConfig()\n",
    "dim = 512\n",
    "\n",
    "data_folder = \"/dds/work/workspace/data_ja/\"\n",
    "groundtruth_path='/dds/work/workspace/data_ja/RF-CAT1-v1.0.csv'\n",
    "\n",
    "scales = [0.8, 1., 1.25]\n",
    "\n",
    "dataset = jalbert.jalbertDataset()\n",
    "dataset.load_jalbert(dim, data_folder,groundtruth_path, scales)#, force_new_dataset=True)\n",
    "dataset.prepare()\n",
    "print(\"Image Count: {}\".format(len(dataset.image_ids)))\n",
    "print(\"Class Count: {}\".format(dataset.num_classes))\n",
    "for i, info in enumerate(dataset.class_info):\n",
    "    print(\"{:3}. {:50}\".format(i, info['name']))"
   ]
  },
  {
   "cell_type": "code",
   "execution_count": 5,
   "metadata": {
    "collapsed": false
   },
   "outputs": [],
   "source": [
    "import random\n",
    "i=random.randint(0,dataset.num_images)\n",
    "img = dataset.load_image(i)\n",
    "mask = dataset.load_mask(i)"
   ]
  },
  {
   "cell_type": "code",
   "execution_count": 6,
   "metadata": {
    "collapsed": false
   },
   "outputs": [
    {
     "data": {
      "text/plain": [
       "103"
      ]
     },
     "execution_count": 6,
     "metadata": {},
     "output_type": "execute_result"
    }
   ],
   "source": [
    "i"
   ]
  },
  {
   "cell_type": "code",
   "execution_count": null,
   "metadata": {
    "collapsed": true
   },
   "outputs": [],
   "source": [
    "nb_img = dataset.num_images\n",
    "split_train = slice(1,2*nb_img//3)\n",
    "split_val = slice(2*nb_img//3,nb_img)\n",
    "\n",
    "\n",
    "#nb_img = 77\n",
    "#split_train = slice(1,nb_img//2)\n",
    "#split_val = slice(nb_img//2,nb_img)\n",
    "\n",
    "dataset_train = jalbert.jalbertDataset()\n",
    "dataset_train.load_jalbert(dim, data_folder,groundtruth_path, scales, split=split_train)#, force_new_dataset=True)\n",
    "dataset_train.prepare()\n",
    "\n",
    "dataset_val = jalbert.jalbertDataset()\n",
    "dataset_val.load_jalbert(dim, data_folder,groundtruth_path, scales, split=split_val)#, force_new_dataset=True)\n",
    "dataset_val.prepare()\n",
    "\n",
    "#dataset_train = jalbert.copydataset(dataset,split_train)\n",
    "#dataset_val = jalbert.copydataset(dataset,split_val)\n",
    "\n",
    "print(\"Train\")\n",
    "print(\"Image Count: {}\".format(len(dataset_train.image_ids)))\n",
    "print(\"Class Count: {}\".format(dataset_train.num_classes))\n",
    "for i, info in enumerate(dataset_train.class_info):\n",
    "    print(\"{:3}. {:50}\".format(i, info['name']))\n",
    "\n",
    "print(\"Val\")\n",
    "print(\"Image Count: {}\".format(len(dataset_val.image_ids)))\n",
    "print(\"Class Count: {}\".format(dataset_val.num_classes))\n",
    "for i, info in enumerate(dataset_val.class_info):\n",
    "    print(\"{:3}. {:50}\".format(i, info['name']))"
   ]
  }
 ],
 "metadata": {
  "kernelspec": {
   "display_name": "Python [conda env:dds]",
   "language": "python",
   "name": "conda-env-dds-py"
  },
  "language_info": {
   "codemirror_mode": {
    "name": "ipython",
    "version": 3
   },
   "file_extension": ".py",
   "mimetype": "text/x-python",
   "name": "python",
   "nbconvert_exporter": "python",
   "pygments_lexer": "ipython3",
   "version": "3.5.3"
  }
 },
 "nbformat": 4,
 "nbformat_minor": 2
}
