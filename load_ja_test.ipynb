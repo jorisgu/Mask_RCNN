{
 "cells": [
  {
   "cell_type": "code",
   "execution_count": null,
   "metadata": {
    "collapsed": true
   },
   "outputs": [],
   "source": [
    "import numpy as np\n",
    "\n",
    "\n",
    "import sys\n",
    "import os\n",
    "import io\n",
    "import chardet\n",
    "import codecs\n",
    "import datetime\n",
    "\n",
    "import cv2\n",
    "\n",
    "from PIL import Image, ImageDraw\n",
    "\n",
    "vgg_rgboffsets = [103.939, 116.779, 123.68]\n",
    "\n",
    "\n",
    "image_fs = \"rrc_t4/img/img_%d.jpg\"\n",
    "gt_fs = \"rrc_t4/gt/gt_img_%d.txt\"\n",
    "\n",
    "#http://stackoverflow.com/questions/13590749/reading-unicode-file-data-with-bom-chars-in-python\n",
    "def detect_encoding(fname):\n",
    "    bytes = min(32, os.path.getsize(fname))\n",
    "    raw = open(fname, 'rb').read(bytes)\n",
    "    if raw.startswith(codecs.BOM_UTF8):\n",
    "        encoding = 'utf-8-sig'\n",
    "    else:\n",
    "        result = chardet.detect(raw)\n",
    "        encoding = result['encoding']\n",
    "    return encoding\n",
    "\n",
    "\n",
    "\n",
    "def process_groundtruth(gtfile,w=1280,h=720):\n",
    "    image_match = Image.new('L',(w,h))\n",
    "    image_dontcare = Image.new('L',(w,h))\n",
    "    encoding = detect_encoding(gtfile)\n",
    "    with io.open(gtfile,'r',encoding=encoding) as fd:\n",
    "        for bbox_line in fd:\n",
    "            fields = bbox_line.strip().split(',',8)\n",
    "            #xvals = [int(x) for x in fields[:8:2]]\n",
    "            #yvals = [int(y) for y in fields[1:8:2]]\n",
    "            xycoords = [int(xy) for xy in fields[:-1]]\n",
    "            label = fields[-1]\n",
    "            draw = ImageDraw.Draw(image_dontcare if label==\"###\" else image_match)\n",
    "            draw.polygon(xycoords,outline=None,fill=255)\n",
    "    np_match = np.array(image_match,dtype=float)/255\n",
    "    np_dontcare = np.array(image_dontcare,dtype=float)/255\n",
    "    np_match_dc = np.maximum(np_match, np_dontcare)\n",
    "    return(np_match,np_dontcare,np_match_dc)\n",
    "\n",
    "def load_img(imgfile):\n",
    "    img = Image.open(imgfile)\n",
    "    if img.mode != 'RGB':\n",
    "        img = img.convert('RGB')\n",
    "    iarray = np.array(img,dtype=float)\n",
    "    for i in range(3):\n",
    "        iarray[:,:,i] -= vgg_rgboffsets[i]\n",
    "    return iarray #.transpose((2,0,1))"
   ]
  },
  {
   "cell_type": "markdown",
   "metadata": {},
   "source": [
    "# Data loader\n",
    "data in /dds/workspace/data_ja/"
   ]
  },
  {
   "cell_type": "code",
   "execution_count": null,
   "metadata": {
    "collapsed": false
   },
   "outputs": [],
   "source": [
    "!ls /dds/workspace/data_ja/"
   ]
  },
  {
   "cell_type": "markdown",
   "metadata": {},
   "source": [
    "## Groundtruth"
   ]
  },
  {
   "cell_type": "code",
   "execution_count": null,
   "metadata": {
    "collapsed": true
   },
   "outputs": [],
   "source": [
    "import csv"
   ]
  },
  {
   "cell_type": "code",
   "execution_count": null,
   "metadata": {
    "collapsed": false
   },
   "outputs": [],
   "source": [
    "grountruth_path='/dds/workspace/data_ja/RF-CAT1-v1.0.csv'\n",
    "groundtruth_csvfile = open(grountruth_path, 'r')\n",
    "# with open(pathToGT, 'r') as csvfile:\n",
    "groundtruth_reader = csv.DictReader(groundtruth_csvfile)#, delimiter=',')\n",
    "groundtruth_dict = {}\n",
    "for row in groundtruth_reader:\n",
    "    groundtruth_dict.setdefault(row['filename'],[]).append(row)"
   ]
  },
  {
   "cell_type": "markdown",
   "metadata": {},
   "source": [
    "## Images"
   ]
  },
  {
   "cell_type": "raw",
   "metadata": {},
   "source": [
    "from PIL import Image, ImageDraw\n",
    "\n",
    "vgg_rgboffsets = [103.939, 116.779, 123.68]"
   ]
  },
  {
   "cell_type": "raw",
   "metadata": {
    "collapsed": false
   },
   "source": [
    "def load_img(imgfile):\n",
    "    img = Image.open(imgfile)\n",
    "    if img.mode != 'RGB':\n",
    "        img = img.convert('RGB')\n",
    "    iarray = np.array(img,dtype=float)\n",
    "    for i in range(3):\n",
    "        iarray[:,:,i] -= vgg_rgboffsets[i]\n",
    "    return iarray #.transpose((2,0,1))\n",
    "    \n",
    "image_np = load_img(image_path)"
   ]
  },
  {
   "cell_type": "code",
   "execution_count": null,
   "metadata": {
    "collapsed": true
   },
   "outputs": [],
   "source": [
    "import argparse, magic, re, os, math, glob, shutil"
   ]
  },
  {
   "cell_type": "code",
   "execution_count": null,
   "metadata": {
    "collapsed": false
   },
   "outputs": [],
   "source": [
    "image_path='/dds/workspace/data_ja/CAT_1_9013.jpg'\n"
   ]
  },
  {
   "cell_type": "code",
   "execution_count": null,
   "metadata": {
    "collapsed": false
   },
   "outputs": [],
   "source": []
  },
  {
   "cell_type": "code",
   "execution_count": null,
   "metadata": {
    "collapsed": false
   },
   "outputs": [],
   "source": [
    "input_file=image_path"
   ]
  },
  {
   "cell_type": "code",
   "execution_count": null,
   "metadata": {
    "collapsed": false
   },
   "outputs": [],
   "source": [
    "t = magic.from_file(input_file)\n",
    "try:\n",
    "    if input_file.endswith('.jpg') or input_file.endswith('.jpeg'):\n",
    "        dims = re.search(', (\\d+)x(\\d+)', t)\n",
    "        width = int(dims.group(1))\n",
    "        height = int(dims.group(2))\n",
    "    elif input_file.endswith('.tif') or input_file.endswith('.tiff'):\n",
    "        width = int(re.search('width=(\\d+)', t).group(1))\n",
    "        height = int(re.search('height=(\\d+),', t).group(1))\n",
    "    elif input_file.endswith('.png'):\n",
    "        dims = re.search(', (\\d+) x (\\d+)', t)\n",
    "        width = int(dims.group(1))\n",
    "        height = int(dims.group(2))\n",
    "    else:\n",
    "        print('ERROR: Unknown source image type; JPG, TIFF, or PNG only! Quitting...')\n",
    "except:\n",
    "    print('ERROR: Could not parse source image dims! Quitting...')"
   ]
  },
  {
   "cell_type": "code",
   "execution_count": null,
   "metadata": {
    "collapsed": false
   },
   "outputs": [],
   "source": [
    "print('-> ' + str(width) + ' x ' + str(height) + ' pixels')"
   ]
  },
  {
   "cell_type": "code",
   "execution_count": null,
   "metadata": {
    "collapsed": false
   },
   "outputs": [],
   "source": []
  },
  {
   "cell_type": "markdown",
   "metadata": {},
   "source": [
    "## basic info"
   ]
  },
  {
   "cell_type": "code",
   "execution_count": 1,
   "metadata": {
    "collapsed": false,
    "scrolled": true
   },
   "outputs": [],
   "source": [
    "from PIL import Image, ImageFile\n",
    "ImageFile.LOAD_TRUNCATED_IMAGES = True\n",
    "image_path='/dds/workspace/data_ja/CAT_1_9013.jpg'\n",
    "image_path='/dds/workspace/data_ja/CAT_1_9013.jpg.png'\n",
    "# image_path='/dds/workspace/data_ja/test.jpg'\n",
    "image_path='/dds/workspace/data_ja/test.jpg.png'\n",
    "image_path='/dds/workspace/data_ja/test.jpg.2.png'\n",
    "image_path='/dds/workspace/data_ja/test.jpg.3.png'"
   ]
  },
  {
   "cell_type": "markdown",
   "metadata": {},
   "source": [
    "### crop test"
   ]
  },
  {
   "cell_type": "code",
   "execution_count": null,
   "metadata": {
    "collapsed": false
   },
   "outputs": [],
   "source": [
    "i = Image.open(image_path)\n",
    "left = 100\n",
    "top = 100\n",
    "width = 150\n",
    "height = 150\n",
    "box = (left, top, left+width, top+height)\n",
    "area = i.crop(box)\n",
    "area"
   ]
  },
  {
   "cell_type": "markdown",
   "metadata": {},
   "source": [
    "### tile test"
   ]
  },
  {
   "cell_type": "code",
   "execution_count": 2,
   "metadata": {
    "collapsed": false
   },
   "outputs": [
    {
     "name": "stdout",
     "output_type": "stream",
     "text": [
      "tile :  [('jpeg', (0, 0, 960, 230), 0, ('RGB', ''))]\n"
     ]
    }
   ],
   "source": [
    " image_path='/dds/workspace/data_ja/test.jpg'\n",
    "i = Image.open(image_path)\n",
    "print(\"tile : \", i.tile)"
   ]
  },
  {
   "cell_type": "code",
   "execution_count": null,
   "metadata": {
    "collapsed": false
   },
   "outputs": [],
   "source": [
    "i"
   ]
  },
  {
   "cell_type": "code",
   "execution_count": 5,
   "metadata": {
    "collapsed": false
   },
   "outputs": [],
   "source": [
    "i=None\n",
    "i = Image.open(image_path)\n",
    "w=560\n",
    "h=130\n",
    "#i.size = (w, h)\n",
    "#i.tile = [('jpeg', (0, 0, 960, 230), 0, ('RGB', ''))]\n",
    "# i.load()"
   ]
  },
  {
   "cell_type": "code",
   "execution_count": null,
   "metadata": {
    "collapsed": false
   },
   "outputs": [],
   "source": [
    "i"
   ]
  },
  {
   "cell_type": "code",
   "execution_count": 6,
   "metadata": {
    "collapsed": false
   },
   "outputs": [
    {
     "data": {
      "text/plain": [
       "<PixelAccess at 0x7fd6741c5d50>"
      ]
     },
     "execution_count": 6,
     "metadata": {},
     "output_type": "execute_result"
    }
   ],
   "source": [
    "i.load()"
   ]
  },
  {
   "cell_type": "code",
   "execution_count": null,
   "metadata": {
    "collapsed": false
   },
   "outputs": [],
   "source": [
    "i"
   ]
  },
  {
   "cell_type": "code",
   "execution_count": null,
   "metadata": {
    "collapsed": true
   },
   "outputs": [],
   "source": []
  }
 ],
 "metadata": {
  "kernelspec": {
   "display_name": "Python [conda env:dds]",
   "language": "python",
   "name": "conda-env-dds-py"
  },
  "language_info": {
   "codemirror_mode": {
    "name": "ipython",
    "version": 3
   },
   "file_extension": ".py",
   "mimetype": "text/x-python",
   "name": "python",
   "nbconvert_exporter": "python",
   "pygments_lexer": "ipython3",
   "version": "3.5.3"
  }
 },
 "nbformat": 4,
 "nbformat_minor": 2
}
