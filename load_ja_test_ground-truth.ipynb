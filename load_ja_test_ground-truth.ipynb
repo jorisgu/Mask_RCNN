{
 "cells": [
  {
   "cell_type": "markdown",
   "metadata": {},
   "source": [
    "# Data loader\n",
    "data in /dds/workspace/data_ja/"
   ]
  },
  {
   "cell_type": "code",
   "execution_count": 4,
   "metadata": {
    "collapsed": false
   },
   "outputs": [
    {
     "name": "stdout",
     "output_type": "stream",
     "text": [
      "CAT_1_9013.jpg\t    CAT_1_9024.jpg\tRF-CAT1-v1.0.csv\r\n",
      "CAT_1_9013.jpg.ppm  CAT_1_9024.jpg.ppm\r\n"
     ]
    }
   ],
   "source": [
    "!ls /dds/work/workspace/data_ja/"
   ]
  },
  {
   "cell_type": "markdown",
   "metadata": {},
   "source": [
    "## Groundtruth"
   ]
  },
  {
   "cell_type": "code",
   "execution_count": 2,
   "metadata": {
    "collapsed": true
   },
   "outputs": [],
   "source": [
    "import csv"
   ]
  },
  {
   "cell_type": "code",
   "execution_count": 5,
   "metadata": {
    "collapsed": false
   },
   "outputs": [],
   "source": [
    "grountruth_path='/dds/work/workspace/data_ja/RF-CAT1-v1.0.csv'\n",
    "groundtruth_csvfile = open(grountruth_path, 'r')\n",
    "# with open(pathToGT, 'r') as csvfile:\n",
    "groundtruth_reader = csv.DictReader(groundtruth_csvfile)#, delimiter=',')\n",
    "groundtruth_dict = {}\n",
    "for row in groundtruth_reader:\n",
    "    groundtruth_dict.setdefault(row['filename'],[]).append(row)"
   ]
  },
  {
   "cell_type": "code",
   "execution_count": 8,
   "metadata": {
    "collapsed": false
   },
   "outputs": [
    {
     "data": {
      "text/plain": [
       "[{'equipment': '1RCP043VP',\n",
       "  'extra_equipment': '',\n",
       "  'filename': 'CAT_1_9013',\n",
       "  'index': '30',\n",
       "  'status': 'done',\n",
       "  'x1': '16318',\n",
       "  'x2': '16310',\n",
       "  'x3': '16444',\n",
       "  'x4': '16452',\n",
       "  'y1': '7706',\n",
       "  'y2': '7629',\n",
       "  'y3': '7615',\n",
       "  'y4': '7692'},\n",
       " {'equipment': '1RCP103VP',\n",
       "  'extra_equipment': '',\n",
       "  'filename': 'CAT_1_9013',\n",
       "  'index': '31',\n",
       "  'status': 'done',\n",
       "  'x1': '9817',\n",
       "  'x2': '9817',\n",
       "  'x3': '10038',\n",
       "  'x4': '10038',\n",
       "  'y1': '7615',\n",
       "  'y2': '7472',\n",
       "  'y3': '7472',\n",
       "  'y4': '7615'},\n",
       " {'equipment': '1RCP435VP',\n",
       "  'extra_equipment': '',\n",
       "  'filename': 'CAT_1_9013',\n",
       "  'index': '43',\n",
       "  'status': 'done',\n",
       "  'x1': '7564',\n",
       "  'x2': '7523',\n",
       "  'x3': '7561',\n",
       "  'x4': '7601',\n",
       "  'y1': '6338',\n",
       "  'y2': '6307',\n",
       "  'y3': '6258',\n",
       "  'y4': '6290'},\n",
       " {'equipment': '1RCP073RF',\n",
       "  'extra_equipment': '',\n",
       "  'filename': 'CAT_1_9013',\n",
       "  'index': '45',\n",
       "  'status': 'done',\n",
       "  'x1': '32367',\n",
       "  'x2': '32324',\n",
       "  'x3': '32377',\n",
       "  'x4': '32420',\n",
       "  'y1': '6220',\n",
       "  'y2': '6192',\n",
       "  'y3': '6111',\n",
       "  'y4': '6139'},\n",
       " {'equipment': '1RCP641VN',\n",
       "  'extra_equipment': '',\n",
       "  'filename': 'CAT_1_9013',\n",
       "  'index': '46',\n",
       "  'status': 'done',\n",
       "  'x1': '26189',\n",
       "  'x2': '26148',\n",
       "  'x3': '26226',\n",
       "  'x4': '26267',\n",
       "  'y1': '6119',\n",
       "  'y2': '6006',\n",
       "  'y3': '5978',\n",
       "  'y4': '6091'},\n",
       " {'equipment': '1RCP657VP',\n",
       "  'extra_equipment': '',\n",
       "  'filename': 'CAT_1_9013',\n",
       "  'index': '60',\n",
       "  'status': 'done',\n",
       "  'x1': '5800',\n",
       "  'x2': '5766',\n",
       "  'x3': '6238',\n",
       "  'x4': '6262',\n",
       "  'y1': '11178',\n",
       "  'y2': '11338',\n",
       "  'y3': '11397',\n",
       "  'y4': '11236'},\n",
       " {'equipment': '1RCP658VP',\n",
       "  'extra_equipment': '',\n",
       "  'filename': 'CAT_1_9013',\n",
       "  'index': '61',\n",
       "  'status': 'done',\n",
       "  'x1': '5748',\n",
       "  'x2': '5726',\n",
       "  'x3': '6183',\n",
       "  'x4': '6199',\n",
       "  'y1': '10152',\n",
       "  'y2': '10338',\n",
       "  'y3': '10378',\n",
       "  'y4': '10192'}]"
      ]
     },
     "execution_count": 8,
     "metadata": {},
     "output_type": "execute_result"
    }
   ],
   "source": [
    "groundtruth_dict['CAT_1_9013']"
   ]
  },
  {
   "cell_type": "code",
   "execution_count": null,
   "metadata": {
    "collapsed": true
   },
   "outputs": [],
   "source": []
  }
 ],
 "metadata": {
  "kernelspec": {
   "display_name": "Python [conda env:dds]",
   "language": "python",
   "name": "conda-env-dds-py"
  },
  "language_info": {
   "codemirror_mode": {
    "name": "ipython",
    "version": 3
   },
   "file_extension": ".py",
   "mimetype": "text/x-python",
   "name": "python",
   "nbconvert_exporter": "python",
   "pygments_lexer": "ipython3",
   "version": "3.5.3"
  }
 },
 "nbformat": 4,
 "nbformat_minor": 2
}
