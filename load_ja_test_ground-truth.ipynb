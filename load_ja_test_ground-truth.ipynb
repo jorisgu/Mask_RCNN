{
 "cells": [
  {
   "cell_type": "markdown",
   "metadata": {},
   "source": [
    "# Data loader\n",
    "data in /dds/workspace/data_ja/"
   ]
  },
  {
   "cell_type": "code",
   "execution_count": null,
   "metadata": {
    "collapsed": false
   },
   "outputs": [],
   "source": [
    "!ls /dds/workspace/data_ja/"
   ]
  },
  {
   "cell_type": "markdown",
   "metadata": {},
   "source": [
    "## Groundtruth"
   ]
  },
  {
   "cell_type": "code",
   "execution_count": null,
   "metadata": {
    "collapsed": true
   },
   "outputs": [],
   "source": [
    "import csv"
   ]
  },
  {
   "cell_type": "code",
   "execution_count": null,
   "metadata": {
    "collapsed": false
   },
   "outputs": [],
   "source": [
    "grountruth_path='/dds/workspace/data_ja/RF-CAT1-v1.0.csv'\n",
    "groundtruth_csvfile = open(grountruth_path, 'r')\n",
    "# with open(pathToGT, 'r') as csvfile:\n",
    "groundtruth_reader = csv.DictReader(groundtruth_csvfile)#, delimiter=',')\n",
    "groundtruth_dict = {}\n",
    "for row in groundtruth_reader:\n",
    "    groundtruth_dict.setdefault(row['filename'],[]).append(row)"
   ]
  }
 ],
 "metadata": {
  "kernelspec": {
   "display_name": "Python [conda env:dds]",
   "language": "python",
   "name": "conda-env-dds-py"
  },
  "language_info": {
   "codemirror_mode": {
    "name": "ipython",
    "version": 3
   },
   "file_extension": ".py",
   "mimetype": "text/x-python",
   "name": "python",
   "nbconvert_exporter": "python",
   "pygments_lexer": "ipython3",
   "version": "3.5.3"
  }
 },
 "nbformat": 4,
 "nbformat_minor": 2
}
