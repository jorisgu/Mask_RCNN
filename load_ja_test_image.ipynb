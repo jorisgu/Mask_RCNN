{
 "cells": [
  {
   "cell_type": "markdown",
   "metadata": {},
   "source": [
    "# Data loader\n",
    "data in /dds/workspace/data_ja/"
   ]
  },
  {
   "cell_type": "code",
   "execution_count": 1,
   "metadata": {
    "collapsed": false
   },
   "outputs": [
    {
     "name": "stdout",
     "output_type": "stream",
     "text": [
      "CAT_1_9013.jpg\t    CAT_1_9024.jpg\tcat.jpg      test.jpg\r\n",
      "CAT_1_9013.jpg.ppm  CAT_1_9024.jpg.ppm\tcat.jpg.ppm  test.jpg.ppm\r\n"
     ]
    }
   ],
   "source": [
    "!ls /dds/workspace/data_ja/"
   ]
  },
  {
   "cell_type": "markdown",
   "metadata": {},
   "source": [
    "### fonction de chargement d'image jpeg par morceau"
   ]
  },
  {
   "cell_type": "code",
   "execution_count": 2,
   "metadata": {
    "collapsed": false
   },
   "outputs": [],
   "source": [
    "from PIL import Image\n",
    "Image.MAX_IMAGE_PIXELS = 1e10\n",
    "# ImageFile.LOAD_TRUNCATED_IMAGES = True\n",
    "\n",
    "import os.path\n",
    "import numpy as np\n",
    "import glob\n",
    "\n",
    "def change_tile(tile, new_width, new_height, memory_offset):\n",
    "    tup = tile[0]\n",
    "    return [(tup[0],) + ((0,0,new_width, new_height),) + (tup[-2]+memory_offset,) + (tup[-1],)]\n",
    "\n",
    "def read_line_portion(img_path,x,y,w,h,i):\n",
    "    img_pil = Image.open(img_path)\n",
    "    W = img_pil.size[0]\n",
    "    img_pil.size=(w,1)\n",
    "    memory_offset = (x+i)*3*W+3*y\n",
    "    img_pil.tile = change_tile(img_pil.tile,w,1,memory_offset)\n",
    "    #print(img_pil.tile)\n",
    "    #print(img_pil.size)\n",
    "    return img_pil\n",
    "\n",
    "def read_from_memory(img_path,x,y,w,h):\n",
    "    result = Image.new('RGB',(w,h))\n",
    "    for i in range(h):\n",
    "        a = read_line_portion(img_path, x,y,w,h,i)\n",
    "        result.paste(a,(0,i))\n",
    "    return result\n",
    "\n",
    "def show_thumbnail(img_pil, max_size_thumbnail = 200):\n",
    "    img_pil_thumbnail = img_pil.copy()\n",
    "    size = img_pil.size\n",
    "    max_size_img = float(max(size))\n",
    "    new_size =  tuple((max_size_thumbnail/max_size_img*np.asarray(result.size)).astype(int))\n",
    "    img_pil_thumbnail.thumbnail(new_size, Image.ANTIALIAS)\n",
    "    return img_pil_thumbnail\n",
    "\n",
    "def convert_to_ppm(img_path):\n",
    "    \n",
    "    if os.path.isfile(img_path):\n",
    "        if img_path[-3:]!=\"ppm\":\n",
    "            #print('not ppm')\n",
    "            if os.path.isfile(img_path+\".ppm\"):\n",
    "                #print('converted file already exist')\n",
    "                pass\n",
    "            else:\n",
    "                #print(\"conversion... [\"+\"convert\" +img_path+\" \"+img_path+\".ppm\"+\"]\")\n",
    "                os.system(\"convert \" +img_path+\" \"+img_path+\".ppm\")  \n",
    "                #print(\"conversion done !\")\n",
    "        else:\n",
    "            #print(\"file already converted\")\n",
    "            pass\n",
    "    else:\n",
    "        #print(\"file does not exist\")\n",
    "        pass\n",
    "\n",
    "def purge_ppm(folder):\n",
    "    os.system(\"rm \"+folder+\"/*.ppm\")\n",
    "def list_all_images(folder,extensions = ['jpg','jpeg','JPG','JPEG']):\n",
    "    directoryPath  = folder+\"/*.\"\n",
    "    fileExtensions = [ \"jpg\", \"jpeg\", \"png\", \"bmp\", \"gif\" ]\n",
    "    listOfFiles    = []\n",
    "    list_files = []\n",
    "    for extension in fileExtensions:\n",
    "        listOfFiles.extend( glob.glob( directoryPath + extension ))\n",
    "    return listOfFiles\n",
    "\n",
    "\n",
    "# lister les images\n",
    "# convertir celles qui ne le sont pas\n"
   ]
  },
  {
   "cell_type": "markdown",
   "metadata": {},
   "source": [
    "### Generation des images avec un encodage de type \"raw\" (conversion au format \"ppm\")"
   ]
  },
  {
   "cell_type": "code",
   "execution_count": 3,
   "metadata": {
    "collapsed": false
   },
   "outputs": [
    {
     "name": "stdout",
     "output_type": "stream",
     "text": [
      "-rw-r--r-- 1 root root 1.6G Feb 21 16:00 CAT_1_9013.jpg.ppm\r\n",
      "-rw-r--r-- 1 root root 1.5G Feb 21 16:01 CAT_1_9024.jpg.ppm\r\n",
      "-rw-r--r-- 1 root root 1.6G Feb 21 16:00 cat.jpg.ppm\r\n",
      "-rw-r--r-- 1 root root 647K Feb 21 16:01 test.jpg.ppm\r\n"
     ]
    }
   ],
   "source": [
    "folder = \"/dds/workspace/data_ja\"\n",
    "\n",
    "#purge_ppm(folder)\n",
    "list_images_path = list_all_images(folder)\n",
    "for img_path in list_images_path:\n",
    "    convert_to_ppm(img_path)\n",
    "!ls /dds/workspace/data_ja/ -hl |grep ppm"
   ]
  },
  {
   "cell_type": "markdown",
   "metadata": {},
   "source": [
    "### Génération d'une liste de crops aléatoires, multiscales, multisources"
   ]
  },
  {
   "cell_type": "code",
   "execution_count": null,
   "metadata": {
    "collapsed": true
   },
   "outputs": [],
   "source": []
  },
  {
   "cell_type": "markdown",
   "metadata": {},
   "source": [
    "### Affichages de quelques exemples de crops"
   ]
  },
  {
   "cell_type": "code",
   "execution_count": 4,
   "metadata": {
    "collapsed": false
   },
   "outputs": [
    {
     "data": {
      "image/png": "[encoded data removed]",
      "text/plain": [
       "<PIL.Image.Image image mode=RGB size=52x199 at 0x7FCEEA50FA90>"
      ]
     },
     "execution_count": 4,
     "metadata": {},
     "output_type": "execute_result"
    }
   ],
   "source": [
    "#(960, 230)\n",
    "x = 100\n",
    "y = 800\n",
    "h = 2300\n",
    "w = 600\n",
    "\n",
    "img_path = '/dds/workspace/data_ja/cat.jpg.ppm'\n",
    "result = read_from_memory(img_path,x,y,w,h)\n",
    "show_thumbnail(result)\n",
    "    \n"
   ]
  },
  {
   "cell_type": "code",
   "execution_count": null,
   "metadata": {
    "collapsed": true
   },
   "outputs": [],
   "source": []
  }
 ],
 "metadata": {
  "kernelspec": {
   "display_name": "Python [conda env:dds]",
   "language": "python",
   "name": "conda-env-dds-py"
  },
  "language_info": {
   "codemirror_mode": {
    "name": "ipython",
    "version": 3
   },
   "file_extension": ".py",
   "mimetype": "text/x-python",
   "name": "python",
   "nbconvert_exporter": "python",
   "pygments_lexer": "ipython3",
   "version": "3.5.3"
  }
 },
 "nbformat": 4,
 "nbformat_minor": 2
}
