{
 "cells": [
  {
   "cell_type": "markdown",
   "metadata": {},
   "source": [
    "# Data loader\n",
    "data in /dds/workspace/data_ja/"
   ]
  },
  {
   "cell_type": "code",
   "execution_count": null,
   "metadata": {
    "collapsed": false
   },
   "outputs": [],
   "source": [
    "!ls /dds/workspace/data_ja/"
   ]
  },
  {
   "cell_type": "markdown",
   "metadata": {},
   "source": [
    "## Images"
   ]
  },
  {
   "cell_type": "markdown",
   "metadata": {},
   "source": [
    "## basic info"
   ]
  },
  {
   "cell_type": "code",
   "execution_count": 1,
   "metadata": {
    "collapsed": false,
    "scrolled": true
   },
   "outputs": [],
   "source": [
    "from PIL import Image, ImageFile\n",
    "Image.MAX_IMAGE_PIXELS = 1e10\n",
    "ImageFile.LOAD_TRUNCATED_IMAGES = True\n",
    "image_path='/dds/workspace/data_ja/CAT_1_9013.jpg'\n",
    "#image_path='/dds/workspace/data_ja/CAT_1_9013.4.png'\n",
    "# image_path='/dds/workspace/data_ja/test.jpg'\n",
    "#image_path='/dds/workspace/data_ja/test.jpg.png'\n",
    "#image_path='/dds/workspace/data_ja/test.jpg.2.png'\n",
    "#image_path='/dds/workspace/data_ja/test.jpg.3.png'"
   ]
  },
  {
   "cell_type": "markdown",
   "metadata": {},
   "source": [
    "### tile test"
   ]
  },
  {
   "cell_type": "code",
   "execution_count": 2,
   "metadata": {
    "collapsed": false
   },
   "outputs": [
    {
     "name": "stdout",
     "output_type": "stream",
     "text": [
      "tile :  [('jpeg', (0, 0, 32792, 16396), 0, ('RGB', ''))]\n"
     ]
    }
   ],
   "source": [
    "#image_path='/dds/workspace/data_ja/test.jpg'\n",
    "i = Image.open(image_path)\n",
    "print(\"tile : \", i.tile)"
   ]
  },
  {
   "cell_type": "code",
   "execution_count": 3,
   "metadata": {
    "collapsed": false
   },
   "outputs": [
    {
     "data": {
      "text/plain": [
       "<PixelAccess at 0x7f4b84d1e450>"
      ]
     },
     "execution_count": 3,
     "metadata": {},
     "output_type": "execute_result"
    }
   ],
   "source": [
    "i = Image.open(image_path)\n",
    "w=32792\n",
    "h=1000\n",
    "i.size = (w, h)\n",
    "i.tile = [('jpeg', (0, 0, w, h), 0, ('RGB', ''))]\n",
    "i.load()"
   ]
  },
  {
   "cell_type": "code",
   "execution_count": 4,
   "metadata": {
    "collapsed": false
   },
   "outputs": [],
   "source": [
    "i"
   ]
  },
  {
   "cell_type": "code",
   "execution_count": null,
   "metadata": {
    "collapsed": false
   },
   "outputs": [],
   "source": [
    "a"
   ]
  },
  {
   "cell_type": "code",
   "execution_count": 4,
   "metadata": {
    "collapsed": false
   },
   "outputs": [
    {
     "name": "stdout",
     "output_type": "stream",
     "text": [
      "(32792, 16396)\n",
      "[('jpeg', (0, 0, 32792, 16396), 0, ('RGB', ''))]\n",
      "Changing tile\n",
      "(32792, 10000)\n",
      "[('jpeg', (0, 0, 32792, 10000), 0, ('RGB', ''))]\n",
      "Traceback (most recent call last):\n",
      "  File \"test_loader_pil_crop.py\", line 48, in <module>\n",
      "    my_func()\n",
      "  File \"/dds/miniconda/envs/dds/lib/python3.5/site-packages/memory_profiler.py\", line 994, in wrapper\n",
      "    val = prof(func)(*args, **kwargs)\n",
      "  File \"/dds/miniconda/envs/dds/lib/python3.5/site-packages/memory_profiler.py\", line 586, in f\n",
      "    return func(*args, **kwds)\n",
      "  File \"test_loader_pil_crop.py\", line 45, in my_func\n",
      "    i.load()\n",
      "  File \"/dds/miniconda/envs/dds/lib/python3.5/site-packages/Pillow-5.1.0.dev0-py3.5-linux-x86_64.egg/PIL/ImageFile.py\", line 255, in load\n",
      "  File \"/dds/miniconda/envs/dds/lib/python3.5/site-packages/Pillow-5.1.0.dev0-py3.5-linux-x86_64.egg/PIL/ImageFile.py\", line 59, in raise_ioerror\n",
      "OSError: broken data stream when reading image file\n"
     ]
    }
   ],
   "source": [
    "!python test_loader_pil_crop.py"
   ]
  },
  {
   "cell_type": "code",
   "execution_count": null,
   "metadata": {
    "collapsed": true
   },
   "outputs": [],
   "source": []
  }
 ],
 "metadata": {
  "kernelspec": {
   "display_name": "Python [conda env:dds]",
   "language": "python",
   "name": "conda-env-dds-py"
  },
  "language_info": {
   "codemirror_mode": {
    "name": "ipython",
    "version": 3
   },
   "file_extension": ".py",
   "mimetype": "text/x-python",
   "name": "python",
   "nbconvert_exporter": "python",
   "pygments_lexer": "ipython3",
   "version": "3.5.3"
  }
 },
 "nbformat": 4,
 "nbformat_minor": 2
}
